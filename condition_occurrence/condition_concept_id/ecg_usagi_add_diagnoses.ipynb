{
 "cells": [
  {
   "cell_type": "code",
   "execution_count": 3,
   "metadata": {},
   "outputs": [],
   "source": [
    "import polars as pl\n",
    "\n",
    "auto_mapping_strings = [\n",
    "    (\"Verlengde QT\",4008859,\"Prolonged QT interval\"),\n",
    "    (\"sinusaritmie\", 4141820,\"ECG: sinus arrhythmia\"),\n",
    "    (\"premature ventriculaire complexen\",4088985,\"Multiple premature ventricular complexes\"),\n",
    "    (\"premature ventricular complexes\",4088985,\"Multiple premature ventricular complexes\"),\n",
    "    (\"premature ventricular complex\",4089462,\"Ventricular premature complex\"),\n",
    "    (r\"ST .+T.+ T-golf afwijkingen\",4327859,\"Nonspecific ST-T abnormality on electrocardiogram\"),\n",
    "    (\"Naar rechts gerichte as\",4166218,\"Right axis deviation\"),\n",
    "    (\"premature ventriculaire of aberrant geleide complexen\",4091901,\"Aberrant premature complexes\"),\n",
    "    (\"Ventricular-paced rhythm\",4189347,\"Ventricular rhythm from artificial pacing\"),\n",
    "    (\"mogelijk digitaliseffect\",4091454,\"Digitalis ECG pattern\"),\n",
    "    (\"\\*\\* \\*\\* ACUTE MI / STEMI \\*\\* \\*\\*\",4064609,\"EKG: myocardial infarction\"),\n",
    "    (\"Atrial-sensed ventricular-paced rhythm\",4304202,\"Rhythm from artificial pacing\"),\n",
    "    (\"Atrial-paced rhythm\",4274333,\"Atrial rhythm from artificial pacing\"),\n",
    "    (\"prolonged AV conduction\",314379,\"First degree atrioventricular block\"),\n",
    "    (\"1e graads AV-blok\",314379,\"First degree atrioventricular block\"),\n",
    "    (\"AV dual-paced rhythm\",4304202,\"Rhythm from artificial pacing\"),\n",
    "    (\"premature atriale complexen\",4065285,\"EKG: atrial ectopics\"),\n",
    "    (\"junctionele pacemaker\",4140001,\"ECG: junctional rhythm\"),\n",
    "    (\"kort PR\",4171521,\"Shortened PR interval\"),\n",
    "    (\"ventricular-paced complexes\",4066289,\"Ventricular premature beats\"),\n",
    "    (\"en fusiecomplexen\",4029303,\"Fusion beats\"),\n",
    "    (\"AV-dissociatie\",4175473,\"Atrioventricular dissociation\"),\n",
    "    (\"Versneld Junctioneel ritme\",4145359,\"EKG: accelerated junctional rhythm\"),\n",
    "    (\"met 2:1 AV-geleiding\",4065290,\"ECG: partial atrioventricular block - 2:1\"),\n",
    "    (\"Breed QRS-ritme\",4321877,\"Wide QRS complex\"),\n",
    "    (\"ST depression\",4095285,\"ST segment depression\"),\n",
    "    (\"Idioventriculair ritme\",4171193,\"Idioventricular rhythm\"),\n",
    "    (\"Junctioneel ritme\",4140001,\"ECG: junctional rhythm\"),\n",
    "    (\"premature supraventriculaire complexen\",441872,\"Supraventricular premature beats\"),\n",
    "    (\"supraventricular complexes\",441872,\"Supraventricular premature beats\"),\n",
    "    (\"met 3:1 AV-geleiding\",4064458,\"ECG: partial atrioventricular block - 3:1\"),\n",
    "    (\"geblokkeerd premature atriale complexen\",4088984,\"Blocked premature atrial contraction\"),\n",
    "    (\"ventriculaire escape complexen\",4088507,\"Ventricular escape complex\"),\n",
    "    (\"slechte kwaliteit\",4088345,\"Poor ECG quality\"),\n",
    "    (\"Slechte gegevenskwaliteit\",4088345,\"Poor ECG quality\"),\n",
    "    (\"Fout\",4088345,\"Poor ECG quality\"),\n",
    "    (\"junctionele tachycardie\",4142573,\"ECG: junctional tachycardia\"),\n",
    "]\n",
    "\n",
    "data = pl.read_csv(\"./ecg_usagi_raw.csv\")\n",
    "for (string,code,name) in auto_mapping_strings:\n",
    "    mapped_df = data.filter(pl.col(\"sourceName\").str.to_lowercase().str.contains(rf\"{string.lower()}\")).clone()\n",
    "    mapped_df = mapped_df.with_columns([\n",
    "        pl.lit(code).cast(pl.Int64).alias(\"conceptId\"), \n",
    "        pl.lit(name).alias(\"conceptName\")\n",
    "    ])\n",
    "    data = data.vstack(mapped_df).unique()\n",
    "data = data.sort([\"sourceFrequency\", \"sourceName\"], reverse=[True,False])\n",
    "data.write_csv(\"./ecg_usagi_auto.csv\")"
   ]
  }
 ],
 "metadata": {
  "kernelspec": {
   "display_name": "Python 3.10.6 ('.venv': pipenv)",
   "language": "python",
   "name": "python3"
  },
  "language_info": {
   "codemirror_mode": {
    "name": "ipython",
    "version": 3
   },
   "file_extension": ".py",
   "mimetype": "text/x-python",
   "name": "python",
   "nbconvert_exporter": "python",
   "pygments_lexer": "ipython3",
   "version": "3.10.6"
  },
  "orig_nbformat": 4,
  "vscode": {
   "interpreter": {
    "hash": "c303679f65405907cdac00fd9ed90c3951fbacb313dad068fa322ce9103e4d9a"
   }
  }
 },
 "nbformat": 4,
 "nbformat_minor": 2
}
